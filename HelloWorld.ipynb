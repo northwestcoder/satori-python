{
 "cells": [
  {
   "cell_type": "code",
   "execution_count": 1,
   "id": "7cde8c25",
   "metadata": {},
   "outputs": [],
   "source": [
    "import satori"
   ]
  },
  {
   "cell_type": "code",
   "execution_count": 2,
   "id": "ce71a41d",
   "metadata": {},
   "outputs": [],
   "source": [
    "# must fill the next three lines in with valid connection info for your Satori account\n",
    "account_id = \"\"\n",
    "serviceaccount_id = \"\"\n",
    "serviceaccount_key = \"\"\n",
    "apihost = \"app.satoricyber.com\""
   ]
  },
  {
   "cell_type": "code",
   "execution_count": null,
   "id": "40d1602d",
   "metadata": {},
   "outputs": [],
   "source": [
    "headers = satori.auth(apihost, serviceaccount_id, serviceaccount_key)\n",
    "print(headers)"
   ]
  },
  {
   "cell_type": "code",
   "execution_count": 4,
   "id": "9c6a3353",
   "metadata": {},
   "outputs": [],
   "source": [
    "datastores = satori.get_datastores(apihost, headers, account_id)\n",
    "#print(datastores)"
   ]
  },
  {
   "cell_type": "code",
   "execution_count": 5,
   "id": "a1b0bce0",
   "metadata": {},
   "outputs": [],
   "source": [
    "one_datastore = satori.get_datastore_connection(apihost, headers, datastores['records'][0]['id'])\n",
    "#print(one_datastore['satoriHostname'])\n",
    "#print(one_datastore['originPort'])"
   ]
  },
  {
   "cell_type": "code",
   "execution_count": 6,
   "id": "5457fef7",
   "metadata": {},
   "outputs": [],
   "source": [
    "tuples_list = satori.query_postgres(\n",
    "    'your_satori_hostname',\n",
    "    '12345',\n",
    "    'your_satori_db',\n",
    "    'your_satori_username',\n",
    "    'your_satori_password',\n",
    "    \"select customer_id,email,state,ssn,postal_code,blood_type from public.people_v2 where state='CA' limit 1000\")"
   ]
  },
  {
   "cell_type": "code",
   "execution_count": 7,
   "id": "ef35208f",
   "metadata": {},
   "outputs": [
    {
     "data": {
      "text/html": [
       "<div>\n",
       "<style scoped>\n",
       "    .dataframe tbody tr th:only-of-type {\n",
       "        vertical-align: middle;\n",
       "    }\n",
       "\n",
       "    .dataframe tbody tr th {\n",
       "        vertical-align: top;\n",
       "    }\n",
       "\n",
       "    .dataframe thead th {\n",
       "        text-align: right;\n",
       "    }\n",
       "</style>\n",
       "<table border=\"1\" class=\"dataframe\">\n",
       "  <thead>\n",
       "    <tr style=\"text-align: right;\">\n",
       "      <th></th>\n",
       "      <th>customer_id</th>\n",
       "      <th>email</th>\n",
       "      <th>state</th>\n",
       "      <th>ssn</th>\n",
       "      <th>postal_code</th>\n",
       "      <th>blood_type</th>\n",
       "    </tr>\n",
       "  </thead>\n",
       "  <tbody>\n",
       "    <tr>\n",
       "      <th>0</th>\n",
       "      <td>o7kye8bwnbo9fw5k</td>\n",
       "      <td>**********@shawltd.com</td>\n",
       "      <td>CA</td>\n",
       "      <td>******-8682</td>\n",
       "      <td>[LPII Redacted]</td>\n",
       "      <td>AB-</td>\n",
       "    </tr>\n",
       "    <tr>\n",
       "      <th>1</th>\n",
       "      <td>2w4kdc21hkvyj020</td>\n",
       "      <td>*******@sotoyoderandsantos.com</td>\n",
       "      <td>CA</td>\n",
       "      <td>******-1375</td>\n",
       "      <td>[LPII Redacted]</td>\n",
       "      <td>O-</td>\n",
       "    </tr>\n",
       "    <tr>\n",
       "      <th>2</th>\n",
       "      <td>hcumdyhjoqlj5fmb</td>\n",
       "      <td>*******@acostapearsonandstevens.com</td>\n",
       "      <td>CA</td>\n",
       "      <td>******-4716</td>\n",
       "      <td>[LPII Redacted]</td>\n",
       "      <td>A-</td>\n",
       "    </tr>\n",
       "    <tr>\n",
       "      <th>3</th>\n",
       "      <td>etnmrep54sg1c1ik</td>\n",
       "      <td>*******@crawfordmartinez.com</td>\n",
       "      <td>CA</td>\n",
       "      <td>******-5116</td>\n",
       "      <td>[LPII Redacted]</td>\n",
       "      <td>O-</td>\n",
       "    </tr>\n",
       "    <tr>\n",
       "      <th>4</th>\n",
       "      <td>vvdfx3969za2ayml</td>\n",
       "      <td>*********@washingtonplc.com</td>\n",
       "      <td>CA</td>\n",
       "      <td>******-7031</td>\n",
       "      <td>[LPII Redacted]</td>\n",
       "      <td>AB-</td>\n",
       "    </tr>\n",
       "    <tr>\n",
       "      <th>5</th>\n",
       "      <td>rrbrv2lb5uxmzsok</td>\n",
       "      <td>*********@mitchellunderwoodandbarrett.com</td>\n",
       "      <td>CA</td>\n",
       "      <td>******-8372</td>\n",
       "      <td>[LPII Redacted]</td>\n",
       "      <td>AB+</td>\n",
       "    </tr>\n",
       "    <tr>\n",
       "      <th>6</th>\n",
       "      <td>f08fcqo7jwy8mi3b</td>\n",
       "      <td>**********@macdonaldparkerandmanning.org</td>\n",
       "      <td>CA</td>\n",
       "      <td>******-4262</td>\n",
       "      <td>[LPII Redacted]</td>\n",
       "      <td>B-</td>\n",
       "    </tr>\n",
       "    <tr>\n",
       "      <th>7</th>\n",
       "      <td>9uupxhnrsgfepgej</td>\n",
       "      <td>***************@alexanderltd.info</td>\n",
       "      <td>CA</td>\n",
       "      <td>******-8660</td>\n",
       "      <td>[LPII Redacted]</td>\n",
       "      <td>O+</td>\n",
       "    </tr>\n",
       "    <tr>\n",
       "      <th>8</th>\n",
       "      <td>3oipjjhl9ep1on6l</td>\n",
       "      <td>******@archergroup.net</td>\n",
       "      <td>CA</td>\n",
       "      <td>******-5762</td>\n",
       "      <td>[LPII Redacted]</td>\n",
       "      <td>AB+</td>\n",
       "    </tr>\n",
       "    <tr>\n",
       "      <th>9</th>\n",
       "      <td>92mouv3wy2p6hhbg</td>\n",
       "      <td>**********@jonesrobles.net</td>\n",
       "      <td>CA</td>\n",
       "      <td>******-2911</td>\n",
       "      <td>[LPII Redacted]</td>\n",
       "      <td>O-</td>\n",
       "    </tr>\n",
       "  </tbody>\n",
       "</table>\n",
       "</div>"
      ],
      "text/plain": [
       "        customer_id                                      email state  \\\n",
       "0  o7kye8bwnbo9fw5k                     **********@shawltd.com    CA   \n",
       "1  2w4kdc21hkvyj020             *******@sotoyoderandsantos.com    CA   \n",
       "2  hcumdyhjoqlj5fmb        *******@acostapearsonandstevens.com    CA   \n",
       "3  etnmrep54sg1c1ik               *******@crawfordmartinez.com    CA   \n",
       "4  vvdfx3969za2ayml                *********@washingtonplc.com    CA   \n",
       "5  rrbrv2lb5uxmzsok  *********@mitchellunderwoodandbarrett.com    CA   \n",
       "6  f08fcqo7jwy8mi3b   **********@macdonaldparkerandmanning.org    CA   \n",
       "7  9uupxhnrsgfepgej          ***************@alexanderltd.info    CA   \n",
       "8  3oipjjhl9ep1on6l                     ******@archergroup.net    CA   \n",
       "9  92mouv3wy2p6hhbg                 **********@jonesrobles.net    CA   \n",
       "\n",
       "           ssn      postal_code blood_type  \n",
       "0  ******-8682  [LPII Redacted]        AB-  \n",
       "1  ******-1375  [LPII Redacted]         O-  \n",
       "2  ******-4716  [LPII Redacted]         A-  \n",
       "3  ******-5116  [LPII Redacted]         O-  \n",
       "4  ******-7031  [LPII Redacted]        AB-  \n",
       "5  ******-8372  [LPII Redacted]        AB+  \n",
       "6  ******-4262  [LPII Redacted]         B-  \n",
       "7  ******-8660  [LPII Redacted]         O+  \n",
       "8  ******-5762  [LPII Redacted]        AB+  \n",
       "9  ******-2911  [LPII Redacted]         O-  "
      ]
     },
     "execution_count": 7,
     "metadata": {},
     "output_type": "execute_result"
    }
   ],
   "source": [
    "import pandas as pd\n",
    "cols = ['customer_id','email','state','ssn','postal_code','blood_type']\n",
    "df = pd.DataFrame(tuples_list, columns=cols)\n",
    "df.head(10)"
   ]
  },
  {
   "cell_type": "code",
   "execution_count": 10,
   "id": "13aa7a85",
   "metadata": {},
   "outputs": [],
   "source": [
    "from matplotlib import pyplot as plt\n",
    "%matplotlib inline\n",
    "# Seaborn for plot styles.\n",
    "import seaborn as sns"
   ]
  },
  {
   "cell_type": "code",
   "execution_count": 11,
   "id": "ab046335",
   "metadata": {},
   "outputs": [
    {
     "data": {
      "text/plain": [
       "<Axes: xlabel='blood_type', ylabel='Count'>"
      ]
     },
     "execution_count": 11,
     "metadata": {},
     "output_type": "execute_result"
    },
    {
     "data": {
      "image/png": "[encoded data removed]",
      "text/plain": [
       "<Figure size 640x480 with 1 Axes>"
      ]
     },
     "metadata": {},
     "output_type": "display_data"
    }
   ],
   "source": [
    "sns.histplot(data=df, x=\"blood_type\", kde=True)"
   ]
  },
  {
   "cell_type": "code",
   "execution_count": null,
   "id": "1b671a86",
   "metadata": {},
   "outputs": [],
   "source": []
  }
 ],
 "metadata": {
  "kernelspec": {
   "display_name": "Python 3 (ipykernel)",
   "language": "python",
   "name": "python3"
  },
  "language_info": {
   "codemirror_mode": {
    "name": "ipython",
    "version": 3
   },
   "file_extension": ".py",
   "mimetype": "text/x-python",
   "name": "python",
   "nbconvert_exporter": "python",
   "pygments_lexer": "ipython3",
   "version": "3.11.0"
  }
 },
 "nbformat": 4,
 "nbformat_minor": 5
}
