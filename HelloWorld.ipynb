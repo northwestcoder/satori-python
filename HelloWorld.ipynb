{
 "cells": [
  {
   "cell_type": "code",
   "execution_count": null,
   "id": "7cde8c25",
   "metadata": {},
   "outputs": [],
   "source": [
    "import satori"
   ]
  },
  {
   "cell_type": "code",
   "execution_count": null,
   "id": "ce71a41d",
   "metadata": {},
   "outputs": [],
   "source": [
    "account_id = \"\"\n",
    "serviceaccount_id = \"\"\n",
    "serviceaccount_key = \"\"\n",
    "apihost = \"app.satoricyber.com\""
   ]
  },
  {
   "cell_type": "code",
   "execution_count": null,
   "id": "40d1602d",
   "metadata": {},
   "outputs": [],
   "source": [
    "headers = satori.auth(apihost, serviceaccount_id, serviceaccount_key)\n",
    "print(headers)"
   ]
  },
  {
   "cell_type": "code",
   "execution_count": null,
   "id": "9c6a3353",
   "metadata": {},
   "outputs": [],
   "source": [
    "datastores = satori.get_datastores(apihost, headers, account_id)\n",
    "#print(datastores)"
   ]
  },
  {
   "cell_type": "code",
   "execution_count": null,
   "id": "a1b0bce0",
   "metadata": {},
   "outputs": [],
   "source": [
    "one_datastore = satori.get_datastore_connection(apihost, headers, datastores['records'][0]['id'])\n",
    "#print(one_datastore['satoriHostname'])\n",
    "#print(one_datastore['originPort'])"
   ]
  },
  {
   "cell_type": "code",
   "execution_count": null,
   "id": "5457fef7",
   "metadata": {},
   "outputs": [],
   "source": [
    "querytest = satori.query_postgres(\n",
    "    'host',\n",
    "    '12345',\n",
    "    'postgres',\n",
    "    'user',\n",
    "    'password',\n",
    "    \"select customer_id,email,state,ssn,postal_code,blood_type from public.people_v2 where state='CA' limit 10\")"
   ]
  }
 ],
 "metadata": {
  "kernelspec": {
   "display_name": "Python 3 (ipykernel)",
   "language": "python",
   "name": "python3"
  },
  "language_info": {
   "codemirror_mode": {
    "name": "ipython",
    "version": 3
   },
   "file_extension": ".py",
   "mimetype": "text/x-python",
   "name": "python",
   "nbconvert_exporter": "python",
   "pygments_lexer": "ipython3",
   "version": "3.11.0"
  }
 },
 "nbformat": 4,
 "nbformat_minor": 5
}
